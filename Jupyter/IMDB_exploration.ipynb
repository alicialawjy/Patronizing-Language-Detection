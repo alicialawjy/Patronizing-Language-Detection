{
 "cells": [
  {
   "cell_type": "code",
   "execution_count": 3,
   "metadata": {},
   "outputs": [],
   "source": [
    "import nlpaug.augmenter.char as nac\n",
    "import nlpaug.augmenter.word as naw\n",
    "import nlpaug.augmenter.sentence as nas\n",
    "import nlpaug.flow as nafc\n",
    "\n",
    "from nlpaug.util import Action\n",
    "import pandas as pd"
   ]
  },
  {
   "cell_type": "markdown",
   "metadata": {},
   "source": [
    "### Some template code for the basic text"
   ]
  },
  {
   "cell_type": "code",
   "execution_count": 4,
   "metadata": {},
   "outputs": [
    {
     "name": "stdout",
     "output_type": "stream",
     "text": [
      "The quick brown fox jumps over the lazy dog .\n"
     ]
    }
   ],
   "source": [
    "text = 'The quick brown fox jumps over the lazy dog .'\n",
    "print(text)"
   ]
  },
  {
   "cell_type": "code",
   "execution_count": 7,
   "metadata": {},
   "outputs": [
    {
     "name": "stdout",
     "output_type": "stream",
     "text": [
      "Original:\n",
      "The quick brown fox jumps over the lazy dog .\n",
      "Augmented Text:\n",
      "the other quick brown fox jumps out over the little lazy dog.\n"
     ]
    }
   ],
   "source": [
    "# Insert word by contextual word embeddings (BERT, DistilBERT, RoBERTA or XLNet)\n",
    "aug = naw.ContextualWordEmbsAug(\n",
    "    model_path='bert-base-uncased', action=\"insert\")\n",
    "augmented_text = aug.augment(text)\n",
    "print(\"Original:\")\n",
    "print(text)\n",
    "print(\"Augmented Text:\")\n",
    "print(augmented_text)"
   ]
  },
  {
   "cell_type": "code",
   "execution_count": 8,
   "metadata": {},
   "outputs": [
    {
     "name": "stdout",
     "output_type": "stream",
     "text": [
      "Original:\n",
      "The quick brown fox jumps over the lazy dog .\n",
      "Augmented Text:\n",
      "the big brown woman jumps over her lazy dog.\n"
     ]
    }
   ],
   "source": [
    "# Substitute word by contextual word embeddings (BERT, DistilBERT, RoBERTA or XLNet)\n",
    "aug = naw.ContextualWordEmbsAug(\n",
    "    model_path='bert-base-uncased', action=\"substitute\")\n",
    "augmented_text = aug.augment(text)\n",
    "print(\"Original:\")\n",
    "print(text)\n",
    "print(\"Augmented Text:\")\n",
    "print(augmented_text)"
   ]
  },
  {
   "cell_type": "markdown",
   "metadata": {},
   "source": [
    "# Augmentation for Pandas Dataframe"
   ]
  },
  {
   "cell_type": "code",
   "execution_count": 36,
   "metadata": {},
   "outputs": [],
   "source": [
    "df = pd.read_csv(\"/Users/chanmunfai/Documents/Imperial/NLP/CW/Patronizing-Language-Detection/datasets/df_train.csv\")"
   ]
  },
  {
   "cell_type": "code",
   "execution_count": 20,
   "metadata": {},
   "outputs": [],
   "source": [
    "# df = df.iloc[0:5, :]"
   ]
  },
  {
   "cell_type": "code",
   "execution_count": 37,
   "metadata": {},
   "outputs": [],
   "source": [
    "df_aug = df['text'].apply(lambda x: aug.augment(x))"
   ]
  },
  {
   "cell_type": "code",
   "execution_count": 33,
   "metadata": {},
   "outputs": [
    {
     "name": "stdout",
     "output_type": "stream",
     "text": [
      "\"\"\" I do n't want a knife in the back , I do n't want him Ser Davos blown up with wildfire , I do n't want to be poisoned . I think perhaps he would open a little flower shop somewhere and settle down with a lot of attractive women from Dorne with lots of Dornish wine , \"\" said Cunningham .\"\n",
      "So how did Kuami Eugene take a u-turn from the gospel or backslide ( as some people will say ) to the extent that he would now state in interviews that he prefers older women ( sugar mummies ) as partners ?\n",
      "Trump has taken strong anti-immigrant stances after running a campaign that focused on limiting Muslim refugee access to the U.S. and building a wall to border Mexico . On Friday , the president signed an executive action to establish new vetting procedures for some people seeking to enter the U.S. , saying the measure would prevent terrorists from being admitted .\n",
      "\"More than once , a mentally ill homeless person showed up at the front door of the building , insisting that they either lived there or wanted to rent an apartment . The historic district of Rockville was a \"\" nice \"\" part of town in which you almost never saw people living on the street , so it was even stranger .\"\n",
      "\"\"\" Attracting and retaining immigrants with high levels of skill will help Canada compete in the knowledge-based world economy , \"\" he added . \"\" With this initiative , we are telling the innovators of tomorrow that Canada is ready to welcome them and their ideas . \"\"\"\n"
     ]
    }
   ],
   "source": [
    "for index, row in df.iterrows():\n",
    "    print(row[\"text\"])"
   ]
  },
  {
   "cell_type": "code",
   "execution_count": 35,
   "metadata": {},
   "outputs": [
    {
     "name": "stdout",
     "output_type": "stream",
     "text": [
      "\" \" \" i think n'far prefer a knife to the back, i don't want him ser davos stirring up a wildfire, i don't want to die poisoned. i think perhaps he would open one little flower shop somewhere and settle there with a lot of attractive women from dorne with plenty of dornish wine, \" \" said cunningham. \"\n",
      "so similarly did reverend eugene take a paradigm - shift from the gospel or religion ( as some people will die ) to the extent that one would simply state in court that he prefers older women ( including mummies ) as partners?\n",
      "trump has taken strong anti - immigrant stances after joining a campaign that focused on denying muslim refugee access in the u. s. and placing a wall near border mexico. on release, the president filed an executive action to establish new vetting procedures for some individuals seeking to enter the u. d., saying no measure would prevent terrorists from being admitted.\n",
      "\" more than ever, a mentally ill homeless person turned up at the front wall of the building, insisting that they either lived alone or wanted to share an apartment. the business district of rockville is a \" \" nice \" \" part of town in which you almost instantly saw people living on washington street, so life was even stranger. \"\n",
      "\" \" \" attracting and retaining immigrants with rich levels of expertise will help canada compete over the broad - based world economy, \" \" he adds. \" \" with this initiative, we will becoming the champion of tomorrow that canada is ready to welcome foreigners and use ideas. \" \" \"\n"
     ]
    }
   ],
   "source": [
    "for index, value in df_aug.items():\n",
    "    print(value)"
   ]
  },
  {
   "cell_type": "code",
   "execution_count": null,
   "metadata": {},
   "outputs": [],
   "source": []
  }
 ],
 "metadata": {
  "interpreter": {
   "hash": "46fa279ed4f7e0173bbb4df60abc98f0d54517d90d227684db4514501155965b"
  },
  "kernelspec": {
   "display_name": "Python 3.7.4 ('base')",
   "language": "python",
   "name": "python3"
  },
  "language_info": {
   "codemirror_mode": {
    "name": "ipython",
    "version": 3
   },
   "file_extension": ".py",
   "mimetype": "text/x-python",
   "name": "python",
   "nbconvert_exporter": "python",
   "pygments_lexer": "ipython3",
   "version": "3.7.4"
  },
  "orig_nbformat": 4
 },
 "nbformat": 4,
 "nbformat_minor": 2
}
