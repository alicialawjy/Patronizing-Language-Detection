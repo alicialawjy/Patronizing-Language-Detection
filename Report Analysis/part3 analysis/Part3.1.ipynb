{
 "cells": [
  {
   "cell_type": "code",
   "execution_count": 67,
   "id": "95ddadc8",
   "metadata": {},
   "outputs": [],
   "source": [
    "import matplotlib.pyplot as plt\n",
    "from sklearn.metrics import classification_report\n",
    "import pandas as pd\n",
    "import seaborn as sns"
   ]
  },
  {
   "cell_type": "code",
   "execution_count": 2,
   "id": "88e292e0",
   "metadata": {},
   "outputs": [],
   "source": [
    "df = pd.read_csv(\"df_test3.1.csv\")"
   ]
  },
  {
   "cell_type": "code",
   "execution_count": 11,
   "id": "7b104774",
   "metadata": {},
   "outputs": [
    {
     "data": {
      "text/html": [
       "<div>\n",
       "<style scoped>\n",
       "    .dataframe tbody tr th:only-of-type {\n",
       "        vertical-align: middle;\n",
       "    }\n",
       "\n",
       "    .dataframe tbody tr th {\n",
       "        vertical-align: top;\n",
       "    }\n",
       "\n",
       "    .dataframe thead th {\n",
       "        text-align: right;\n",
       "    }\n",
       "</style>\n",
       "<table border=\"1\" class=\"dataframe\">\n",
       "  <thead>\n",
       "    <tr style=\"text-align: right;\">\n",
       "      <th></th>\n",
       "      <th>Unnamed: 0</th>\n",
       "      <th>par_id</th>\n",
       "      <th>art_id</th>\n",
       "      <th>keyword</th>\n",
       "      <th>country</th>\n",
       "      <th>text</th>\n",
       "      <th>label</th>\n",
       "      <th>orig_label</th>\n",
       "      <th>label_class</th>\n",
       "      <th>len_text</th>\n",
       "      <th>unbalanced_power</th>\n",
       "      <th>shallow_solution</th>\n",
       "      <th>presupposition</th>\n",
       "      <th>authority_voice</th>\n",
       "      <th>metaphor</th>\n",
       "      <th>compassion</th>\n",
       "      <th>the_poorer_merrier</th>\n",
       "      <th>y_pred</th>\n",
       "    </tr>\n",
       "  </thead>\n",
       "  <tbody>\n",
       "    <tr>\n",
       "      <th>0</th>\n",
       "      <td>1513</td>\n",
       "      <td>1514</td>\n",
       "      <td>@@17670891</td>\n",
       "      <td>refugee</td>\n",
       "      <td>my</td>\n",
       "      <td>\"Gottberg once wrote that the Holocaust was us...</td>\n",
       "      <td>0</td>\n",
       "      <td>0</td>\n",
       "      <td>[0, 0, 0, 0, 0, 0, 0]</td>\n",
       "      <td>225</td>\n",
       "      <td>0</td>\n",
       "      <td>0</td>\n",
       "      <td>0</td>\n",
       "      <td>0</td>\n",
       "      <td>0</td>\n",
       "      <td>0</td>\n",
       "      <td>0</td>\n",
       "      <td>0</td>\n",
       "    </tr>\n",
       "    <tr>\n",
       "      <th>1</th>\n",
       "      <td>4126</td>\n",
       "      <td>4127</td>\n",
       "      <td>@@10019917</td>\n",
       "      <td>homeless</td>\n",
       "      <td>tz</td>\n",
       "      <td>According to the Dar es Salaam master plan whi...</td>\n",
       "      <td>0</td>\n",
       "      <td>0</td>\n",
       "      <td>[0, 0, 0, 0, 0, 0, 0]</td>\n",
       "      <td>203</td>\n",
       "      <td>0</td>\n",
       "      <td>0</td>\n",
       "      <td>0</td>\n",
       "      <td>0</td>\n",
       "      <td>0</td>\n",
       "      <td>0</td>\n",
       "      <td>0</td>\n",
       "      <td>0</td>\n",
       "    </tr>\n",
       "    <tr>\n",
       "      <th>2</th>\n",
       "      <td>2293</td>\n",
       "      <td>2294</td>\n",
       "      <td>@@8422356</td>\n",
       "      <td>disabled</td>\n",
       "      <td>gb</td>\n",
       "      <td>Lukas ' mum Vicki was given a parking ticket f...</td>\n",
       "      <td>0</td>\n",
       "      <td>0</td>\n",
       "      <td>[0, 0, 0, 0, 0, 0, 0]</td>\n",
       "      <td>193</td>\n",
       "      <td>0</td>\n",
       "      <td>0</td>\n",
       "      <td>0</td>\n",
       "      <td>0</td>\n",
       "      <td>0</td>\n",
       "      <td>0</td>\n",
       "      <td>0</td>\n",
       "      <td>0</td>\n",
       "    </tr>\n",
       "    <tr>\n",
       "      <th>3</th>\n",
       "      <td>6122</td>\n",
       "      <td>6123</td>\n",
       "      <td>@@9699513</td>\n",
       "      <td>vulnerable</td>\n",
       "      <td>ke</td>\n",
       "      <td>\"\"\" We should learn from history and Mr Namwam...</td>\n",
       "      <td>0</td>\n",
       "      <td>0</td>\n",
       "      <td>[0, 0, 0, 0, 0, 0, 0]</td>\n",
       "      <td>257</td>\n",
       "      <td>0</td>\n",
       "      <td>0</td>\n",
       "      <td>0</td>\n",
       "      <td>0</td>\n",
       "      <td>0</td>\n",
       "      <td>0</td>\n",
       "      <td>0</td>\n",
       "      <td>0</td>\n",
       "    </tr>\n",
       "    <tr>\n",
       "      <th>4</th>\n",
       "      <td>2983</td>\n",
       "      <td>2984</td>\n",
       "      <td>@@14457280</td>\n",
       "      <td>poor-families</td>\n",
       "      <td>bd</td>\n",
       "      <td>She said since Bangladeshs main export to the ...</td>\n",
       "      <td>1</td>\n",
       "      <td>3</td>\n",
       "      <td>[0 0 1 0 1 0 0]</td>\n",
       "      <td>427</td>\n",
       "      <td>0</td>\n",
       "      <td>0</td>\n",
       "      <td>1</td>\n",
       "      <td>0</td>\n",
       "      <td>1</td>\n",
       "      <td>0</td>\n",
       "      <td>0</td>\n",
       "      <td>1</td>\n",
       "    </tr>\n",
       "  </tbody>\n",
       "</table>\n",
       "</div>"
      ],
      "text/plain": [
       "   Unnamed: 0  par_id      art_id        keyword country  \\\n",
       "0        1513    1514  @@17670891        refugee      my   \n",
       "1        4126    4127  @@10019917       homeless      tz   \n",
       "2        2293    2294   @@8422356       disabled      gb   \n",
       "3        6122    6123   @@9699513     vulnerable      ke   \n",
       "4        2983    2984  @@14457280  poor-families      bd   \n",
       "\n",
       "                                                text  label  orig_label  \\\n",
       "0  \"Gottberg once wrote that the Holocaust was us...      0           0   \n",
       "1  According to the Dar es Salaam master plan whi...      0           0   \n",
       "2  Lukas ' mum Vicki was given a parking ticket f...      0           0   \n",
       "3  \"\"\" We should learn from history and Mr Namwam...      0           0   \n",
       "4  She said since Bangladeshs main export to the ...      1           3   \n",
       "\n",
       "             label_class  len_text  unbalanced_power  shallow_solution  \\\n",
       "0  [0, 0, 0, 0, 0, 0, 0]       225                 0                 0   \n",
       "1  [0, 0, 0, 0, 0, 0, 0]       203                 0                 0   \n",
       "2  [0, 0, 0, 0, 0, 0, 0]       193                 0                 0   \n",
       "3  [0, 0, 0, 0, 0, 0, 0]       257                 0                 0   \n",
       "4        [0 0 1 0 1 0 0]       427                 0                 0   \n",
       "\n",
       "   presupposition  authority_voice  metaphor  compassion  the_poorer_merrier  \\\n",
       "0               0                0         0           0                   0   \n",
       "1               0                0         0           0                   0   \n",
       "2               0                0         0           0                   0   \n",
       "3               0                0         0           0                   0   \n",
       "4               1                0         1           0                   0   \n",
       "\n",
       "   y_pred  \n",
       "0       0  \n",
       "1       0  \n",
       "2       0  \n",
       "3       0  \n",
       "4       1  "
      ]
     },
     "execution_count": 11,
     "metadata": {},
     "output_type": "execute_result"
    }
   ],
   "source": [
    "df.head()"
   ]
  },
  {
   "cell_type": "code",
   "execution_count": 10,
   "id": "50e4dba7",
   "metadata": {},
   "outputs": [],
   "source": [
    "#df[['']]"
   ]
  },
  {
   "cell_type": "code",
   "execution_count": 21,
   "id": "a98b7534",
   "metadata": {},
   "outputs": [],
   "source": [
    "df_label1 = df[df['orig_label'] == 1]\n",
    "df_label2 = df[df['orig_label'] == 2]\n",
    "df_label3 = df[df['orig_label'] == 3]\n",
    "df_label4 = df[df['orig_label'] == 4]"
   ]
  },
  {
   "cell_type": "code",
   "execution_count": 22,
   "id": "034db469",
   "metadata": {},
   "outputs": [
    {
     "data": {
      "text/plain": [
       "0.17293233082706766"
      ]
     },
     "execution_count": 22,
     "metadata": {},
     "output_type": "execute_result"
    }
   ],
   "source": [
    "df_label1['y_pred'].mean()"
   ]
  },
  {
   "cell_type": "code",
   "execution_count": 17,
   "id": "019b9d6f",
   "metadata": {},
   "outputs": [
    {
     "data": {
      "text/plain": [
       "0.25"
      ]
     },
     "execution_count": 17,
     "metadata": {},
     "output_type": "execute_result"
    }
   ],
   "source": [
    "df_label2['y_pred'].mean()"
   ]
  },
  {
   "cell_type": "code",
   "execution_count": 18,
   "id": "32282da1",
   "metadata": {},
   "outputs": [
    {
     "data": {
      "text/plain": [
       "0.676056338028169"
      ]
     },
     "execution_count": 18,
     "metadata": {},
     "output_type": "execute_result"
    }
   ],
   "source": [
    "df_label3['y_pred'].mean()"
   ]
  },
  {
   "cell_type": "code",
   "execution_count": 19,
   "id": "29b49d53",
   "metadata": {},
   "outputs": [
    {
     "data": {
      "text/plain": [
       "0.8813559322033898"
      ]
     },
     "execution_count": 19,
     "metadata": {},
     "output_type": "execute_result"
    }
   ],
   "source": [
    "df_label4['y_pred'].mean()"
   ]
  },
  {
   "cell_type": "code",
   "execution_count": 30,
   "id": "43e5b29f",
   "metadata": {},
   "outputs": [],
   "source": [
    "result = df[['orig_label', 'y_pred']].groupby(['orig_label']).agg(['mean']).reset_index()"
   ]
  },
  {
   "cell_type": "code",
   "execution_count": 32,
   "id": "fae82069",
   "metadata": {},
   "outputs": [],
   "source": [
    "result.columns = ['original label', 'Y prediction percentage']\n",
    "result['Y prediction percentage'] = round(result['Y prediction percentage'] * 100, 2)\n"
   ]
  },
  {
   "cell_type": "code",
   "execution_count": 33,
   "id": "5bf556d3",
   "metadata": {},
   "outputs": [
    {
     "data": {
      "text/html": [
       "<div>\n",
       "<style scoped>\n",
       "    .dataframe tbody tr th:only-of-type {\n",
       "        vertical-align: middle;\n",
       "    }\n",
       "\n",
       "    .dataframe tbody tr th {\n",
       "        vertical-align: top;\n",
       "    }\n",
       "\n",
       "    .dataframe thead th {\n",
       "        text-align: right;\n",
       "    }\n",
       "</style>\n",
       "<table border=\"1\" class=\"dataframe\">\n",
       "  <thead>\n",
       "    <tr style=\"text-align: right;\">\n",
       "      <th></th>\n",
       "      <th>original label</th>\n",
       "      <th>Y prediction percentage</th>\n",
       "    </tr>\n",
       "  </thead>\n",
       "  <tbody>\n",
       "    <tr>\n",
       "      <th>0</th>\n",
       "      <td>0</td>\n",
       "      <td>4.85</td>\n",
       "    </tr>\n",
       "    <tr>\n",
       "      <th>1</th>\n",
       "      <td>1</td>\n",
       "      <td>17.29</td>\n",
       "    </tr>\n",
       "    <tr>\n",
       "      <th>2</th>\n",
       "      <td>2</td>\n",
       "      <td>25.00</td>\n",
       "    </tr>\n",
       "    <tr>\n",
       "      <th>3</th>\n",
       "      <td>3</td>\n",
       "      <td>67.61</td>\n",
       "    </tr>\n",
       "    <tr>\n",
       "      <th>4</th>\n",
       "      <td>4</td>\n",
       "      <td>88.14</td>\n",
       "    </tr>\n",
       "  </tbody>\n",
       "</table>\n",
       "</div>"
      ],
      "text/plain": [
       "   original label  Y prediction percentage\n",
       "0               0                     4.85\n",
       "1               1                    17.29\n",
       "2               2                    25.00\n",
       "3               3                    67.61\n",
       "4               4                    88.14"
      ]
     },
     "execution_count": 33,
     "metadata": {},
     "output_type": "execute_result"
    }
   ],
   "source": [
    "result"
   ]
  },
  {
   "cell_type": "code",
   "execution_count": 43,
   "id": "59877b9d",
   "metadata": {},
   "outputs": [
    {
     "data": {
      "text/plain": [
       "Text(0, 0.5, 'Percentage of predicted as condescending')"
      ]
     },
     "execution_count": 43,
     "metadata": {},
     "output_type": "execute_result"
    },
    {
     "data": {
      "image/png": "[encoded data removed]",
      "text/plain": [
       "<Figure size 432x288 with 1 Axes>"
      ]
     },
     "metadata": {
      "needs_background": "light"
     },
     "output_type": "display_data"
    }
   ],
   "source": [
    "g = sns.lineplot(data=result, x=\"original label\", y=\"Y prediction percentage\")\n",
    "g.set_xticks(range(5))\n",
    "g.set_xticklabels(['0', '1', '2', '3', '4'])\n",
    "g.set_ylabel(\"Percentage of predicted as condescending\")"
   ]
  },
  {
   "cell_type": "code",
   "execution_count": 72,
   "id": "15d5646b",
   "metadata": {},
   "outputs": [],
   "source": [
    "result = df[['label', 'y_pred', 'keyword']].groupby(['keyword']).agg(['mean']).reset_index()\n",
    "result.columns = ['keyword', 'Y actual proportion', 'Y prediction proportion']\n",
    "result['Y actual proportion'] = round(result['Y actual proportion'] * 100, 2)\n",
    "result['Y prediction proportion'] = round(result['Y prediction proportion'] * 100, 2)\n"
   ]
  },
  {
   "cell_type": "code",
   "execution_count": 73,
   "id": "83e03a4f",
   "metadata": {},
   "outputs": [
    {
     "data": {
      "text/html": [
       "<div>\n",
       "<style scoped>\n",
       "    .dataframe tbody tr th:only-of-type {\n",
       "        vertical-align: middle;\n",
       "    }\n",
       "\n",
       "    .dataframe tbody tr th {\n",
       "        vertical-align: top;\n",
       "    }\n",
       "\n",
       "    .dataframe thead th {\n",
       "        text-align: right;\n",
       "    }\n",
       "</style>\n",
       "<table border=\"1\" class=\"dataframe\">\n",
       "  <thead>\n",
       "    <tr style=\"text-align: right;\">\n",
       "      <th></th>\n",
       "      <th>keyword</th>\n",
       "      <th>Y actual proportion</th>\n",
       "      <th>Y prediction proportion</th>\n",
       "    </tr>\n",
       "  </thead>\n",
       "  <tbody>\n",
       "    <tr>\n",
       "      <th>0</th>\n",
       "      <td>disabled</td>\n",
       "      <td>6.75</td>\n",
       "      <td>4.91</td>\n",
       "    </tr>\n",
       "    <tr>\n",
       "      <th>1</th>\n",
       "      <td>homeless</td>\n",
       "      <td>20.12</td>\n",
       "      <td>26.04</td>\n",
       "    </tr>\n",
       "    <tr>\n",
       "      <th>2</th>\n",
       "      <td>hopeless</td>\n",
       "      <td>9.66</td>\n",
       "      <td>13.79</td>\n",
       "    </tr>\n",
       "    <tr>\n",
       "      <th>3</th>\n",
       "      <td>immigrant</td>\n",
       "      <td>5.37</td>\n",
       "      <td>5.37</td>\n",
       "    </tr>\n",
       "    <tr>\n",
       "      <th>4</th>\n",
       "      <td>in-need</td>\n",
       "      <td>16.67</td>\n",
       "      <td>21.43</td>\n",
       "    </tr>\n",
       "    <tr>\n",
       "      <th>5</th>\n",
       "      <td>migrant</td>\n",
       "      <td>4.19</td>\n",
       "      <td>3.59</td>\n",
       "    </tr>\n",
       "    <tr>\n",
       "      <th>6</th>\n",
       "      <td>poor-families</td>\n",
       "      <td>21.74</td>\n",
       "      <td>25.36</td>\n",
       "    </tr>\n",
       "    <tr>\n",
       "      <th>7</th>\n",
       "      <td>refugee</td>\n",
       "      <td>8.43</td>\n",
       "      <td>9.64</td>\n",
       "    </tr>\n",
       "    <tr>\n",
       "      <th>8</th>\n",
       "      <td>vulnerable</td>\n",
       "      <td>5.44</td>\n",
       "      <td>8.16</td>\n",
       "    </tr>\n",
       "    <tr>\n",
       "      <th>9</th>\n",
       "      <td>women</td>\n",
       "      <td>2.53</td>\n",
       "      <td>4.43</td>\n",
       "    </tr>\n",
       "  </tbody>\n",
       "</table>\n",
       "</div>"
      ],
      "text/plain": [
       "         keyword  Y actual proportion  Y prediction proportion\n",
       "0       disabled                 6.75                     4.91\n",
       "1       homeless                20.12                    26.04\n",
       "2       hopeless                 9.66                    13.79\n",
       "3      immigrant                 5.37                     5.37\n",
       "4        in-need                16.67                    21.43\n",
       "5        migrant                 4.19                     3.59\n",
       "6  poor-families                21.74                    25.36\n",
       "7        refugee                 8.43                     9.64\n",
       "8     vulnerable                 5.44                     8.16\n",
       "9          women                 2.53                     4.43"
      ]
     },
     "execution_count": 73,
     "metadata": {},
     "output_type": "execute_result"
    }
   ],
   "source": [
    "result"
   ]
  },
  {
   "cell_type": "code",
   "execution_count": 74,
   "id": "bd4a1842",
   "metadata": {},
   "outputs": [],
   "source": [
    "result2 = result.melt('keyword', var_name='categories', value_name='Percentage of predicted as condescending')"
   ]
  },
  {
   "cell_type": "code",
   "execution_count": 75,
   "id": "a168f608",
   "metadata": {},
   "outputs": [],
   "source": [
    "#result2"
   ]
  },
  {
   "cell_type": "code",
   "execution_count": 77,
   "id": "29fbdf43",
   "metadata": {},
   "outputs": [
    {
     "data": {
      "text/plain": [
       "(array([0, 1, 2, 3, 4, 5, 6, 7, 8, 9]),\n",
       " [Text(0, 0, 'disabled'),\n",
       "  Text(1, 0, 'homeless'),\n",
       "  Text(2, 0, 'hopeless'),\n",
       "  Text(3, 0, 'immigrant'),\n",
       "  Text(4, 0, 'in-need'),\n",
       "  Text(5, 0, 'migrant'),\n",
       "  Text(6, 0, 'poor-families'),\n",
       "  Text(7, 0, 'refugee'),\n",
       "  Text(8, 0, 'vulnerable'),\n",
       "  Text(9, 0, 'women')])"
      ]
     },
     "execution_count": 77,
     "metadata": {},
     "output_type": "execute_result"
    },
    {
     "data": {
      "image/png": "[encoded data removed]",
      "text/plain": [
       "<Figure size 432x288 with 1 Axes>"
      ]
     },
     "metadata": {
      "needs_background": "light"
     },
     "output_type": "display_data"
    }
   ],
   "source": [
    "g = sns.barplot(data=result2, x=\"keyword\", y=\"Percentage of predicted as condescending\", hue='categories')\n",
    "plt.xticks(rotation=45)"
   ]
  },
  {
   "cell_type": "code",
   "execution_count": 78,
   "id": "46766413",
   "metadata": {},
   "outputs": [],
   "source": [
    "result = df[['label', 'y_pred', 'country']].groupby(['country']).agg(['mean']).reset_index()\n",
    "result.columns = ['country', 'Y actual proportion', 'Y prediction proportion']\n",
    "result['Y actual proportion'] = round(result['Y actual proportion'] * 100, 2)\n",
    "result['Y prediction proportion'] = round(result['Y prediction proportion'] * 100, 2)\n"
   ]
  },
  {
   "cell_type": "code",
   "execution_count": 80,
   "id": "3ee792b7",
   "metadata": {},
   "outputs": [],
   "source": [
    "result2 = result.melt('country', var_name='categories', value_name='Percentage of predicted as condescending')"
   ]
  },
  {
   "cell_type": "code",
   "execution_count": 83,
   "id": "c13c5108",
   "metadata": {},
   "outputs": [
    {
     "data": {
      "text/plain": [
       "(array([ 0,  1,  2,  3,  4,  5,  6,  7,  8,  9, 10, 11, 12, 13, 14, 15, 16,\n",
       "        17, 18, 19]),\n",
       " [Text(0, 0, 'au'),\n",
       "  Text(1, 0, 'bd'),\n",
       "  Text(2, 0, 'ca'),\n",
       "  Text(3, 0, 'gb'),\n",
       "  Text(4, 0, 'gh'),\n",
       "  Text(5, 0, 'hk'),\n",
       "  Text(6, 0, 'ie'),\n",
       "  Text(7, 0, 'in'),\n",
       "  Text(8, 0, 'jm'),\n",
       "  Text(9, 0, 'ke'),\n",
       "  Text(10, 0, 'lk'),\n",
       "  Text(11, 0, 'my'),\n",
       "  Text(12, 0, 'ng'),\n",
       "  Text(13, 0, 'nz'),\n",
       "  Text(14, 0, 'ph'),\n",
       "  Text(15, 0, 'pk'),\n",
       "  Text(16, 0, 'sg'),\n",
       "  Text(17, 0, 'tz'),\n",
       "  Text(18, 0, 'us'),\n",
       "  Text(19, 0, 'za')])"
      ]
     },
     "execution_count": 83,
     "metadata": {},
     "output_type": "execute_result"
    },
    {
     "data": {
      "image/png": "[encoded data removed]",
      "text/plain": [
       "<Figure size 432x288 with 1 Axes>"
      ]
     },
     "metadata": {
      "needs_background": "light"
     },
     "output_type": "display_data"
    }
   ],
   "source": [
    "g = sns.barplot(data=result2, x=\"country\", y=\"Percentage of predicted as condescending\", hue='categories')\n",
    "plt.xticks(rotation=45)"
   ]
  },
  {
   "cell_type": "code",
   "execution_count": null,
   "id": "137f8d94",
   "metadata": {},
   "outputs": [],
   "source": []
  }
 ],
 "metadata": {
  "kernelspec": {
   "display_name": "Python 3.9.7 64-bit ('gen': conda)",
   "language": "python",
   "name": "python397jvsc74a57bd0a710e41c65c73894501f04823ff7eb1542720e9cc65ccbbb2db205b59bb67a27"
  },
  "language_info": {
   "codemirror_mode": {
    "name": "ipython",
    "version": 3
   },
   "file_extension": ".py",
   "mimetype": "text/x-python",
   "name": "python",
   "nbconvert_exporter": "python",
   "pygments_lexer": "ipython3",
   "version": "3.9.7"
  }
 },
 "nbformat": 4,
 "nbformat_minor": 5
}
